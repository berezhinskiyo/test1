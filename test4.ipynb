{
 "cells": [
  {
   "cell_type": "code",
   "execution_count": 73,
   "metadata": {
    "collapsed": true
   },
   "outputs": [],
   "source": [
    "import numpy as np\n",
    "import pandas as pd\n",
    "import codecs\n",
    "\n",
    "from sklearn.feature_extraction.text import TfidfTransformer, CountVectorizer, TfidfVectorizer\n",
    "from sklearn.linear_model import LogisticRegression, SGDClassifier\n",
    "from sklearn.svm import LinearSVC,SVC\n",
    "from sklearn.naive_bayes import MultinomialNB\n",
    "from sklearn.model_selection import cross_val_score\n",
    "from sklearn.pipeline import Pipeline\n",
    "from nltk.stem.snowball import RussianStemmer\n",
    "from nltk.corpus import stopwords\n",
    "from tqdm import tqdm\n",
    "import pickle\n",
    "from StemmedCountVectorizer import StemmedCountVectorizer\n",
    "\n",
    "from sklearn.model_selection import ShuffleSplit\n",
    "from sklearn.linear_model import LogisticRegression\n",
    "from sklearn.metrics import roc_auc_score, accuracy_score,f1_score"
   ]
  },
  {
   "cell_type": "code",
   "execution_count": 74,
   "metadata": {
    "collapsed": false
   },
   "outputs": [],
   "source": [
    "source_splited_sentences = [];\n",
    "with codecs.open(\"1.txt\",'r', encoding='utf-8') as file_sentences :\n",
    "    source_splited_sentences = file_sentences.readlines();\n",
    "    \n",
    "ekmtr = np.array([ [sentence.split('\\t')[1], sentence.split('\\t')[2],sentence.split('\\t')[3].replace('\\n','')] for sentence in source_splited_sentences ])\n",
    "df_ekmtr = pd.DataFrame(ekmtr,columns = ['name', 'ekmtr','mtr_type'])\n",
    "df_ekmtr['ekmtr1'] = df_ekmtr.ekmtr.apply(lambda x: x.split('_')[0])\n",
    "df_ekmtr['ekmtr2'] = df_ekmtr.ekmtr.apply(lambda x: x.partition('_')[2])\n",
    "df_ekmtr =  df_ekmtr[df_ekmtr.name !='name']\n",
    "\n",
    "##########################\n",
    "\n",
    "\n",
    "#('clf', SVC(kernel='linear', C=1))\n",
    "stem_vectorizer = StemmedCountVectorizer(stemmer)\n",
    "text_clf = Pipeline([('vect', stem_vectorizer), ('tfidf', TfidfTransformer()), ('clf', LogisticRegression()) ])\n"
   ]
  },
  {
   "cell_type": "code",
   "execution_count": 75,
   "metadata": {
    "collapsed": false
   },
   "outputs": [
    {
     "data": {
      "text/plain": [
       "(498263, 5)"
      ]
     },
     "execution_count": 75,
     "metadata": {},
     "output_type": "execute_result"
    }
   ],
   "source": [
    "df_ekmtr.shape"
   ]
  },
  {
   "cell_type": "code",
   "execution_count": 76,
   "metadata": {
    "collapsed": false
   },
   "outputs": [
    {
     "data": {
      "text/plain": [
       "(498035, 5)"
      ]
     },
     "execution_count": 76,
     "metadata": {},
     "output_type": "execute_result"
    }
   ],
   "source": [
    "df_ekmtr  = df_ekmtr.groupby(\"ekmtr\").filter(lambda x: len(x) > 1)\n",
    "df_ekmtr.shape"
   ]
  },
  {
   "cell_type": "code",
   "execution_count": 77,
   "metadata": {
    "collapsed": false
   },
   "outputs": [
    {
     "data": {
      "text/html": [
       "<div>\n",
       "<table border=\"1\" class=\"dataframe\">\n",
       "  <thead>\n",
       "    <tr style=\"text-align: right;\">\n",
       "      <th></th>\n",
       "      <th>name</th>\n",
       "      <th>ekmtr</th>\n",
       "      <th>mtr_type</th>\n",
       "      <th>ekmtr1</th>\n",
       "      <th>ekmtr2</th>\n",
       "    </tr>\n",
       "  </thead>\n",
       "  <tbody>\n",
       "    <tr>\n",
       "      <th>1</th>\n",
       "      <td>Эмаль ХВ-785 коричневая ГОСТ 7313-75</td>\n",
       "      <td>115_03_01_09</td>\n",
       "      <td>NULL</td>\n",
       "      <td>115</td>\n",
       "      <td>03_01_09</td>\n",
       "    </tr>\n",
       "    <tr>\n",
       "      <th>2</th>\n",
       "      <td>Отвод бесшовный приварной крутоизогнутый 60 21...</td>\n",
       "      <td>111_01_12</td>\n",
       "      <td>NULL</td>\n",
       "      <td>111</td>\n",
       "      <td>01_12</td>\n",
       "    </tr>\n",
       "    <tr>\n",
       "      <th>3</th>\n",
       "      <td>\"Кран Bonomi 760005 Ду1\"\" ANSI150 CF8M привод ...</td>\n",
       "      <td>101_01_01_05</td>\n",
       "      <td>NULL</td>\n",
       "      <td>101</td>\n",
       "      <td>01_01_05</td>\n",
       "    </tr>\n",
       "    <tr>\n",
       "      <th>4</th>\n",
       "      <td>Клапан КМР ЛГ 301 С 50 1,0 Л НО У в комплектац...</td>\n",
       "      <td>101_01_04_07_04</td>\n",
       "      <td>NULL</td>\n",
       "      <td>101</td>\n",
       "      <td>01_04_07_04</td>\n",
       "    </tr>\n",
       "    <tr>\n",
       "      <th>5</th>\n",
       "      <td>Теплообменник 500 ТУ-2,5-М1/20Г-3-Т-2-У-И ТУ 3...</td>\n",
       "      <td>110_02_01_01</td>\n",
       "      <td>NULL</td>\n",
       "      <td>110</td>\n",
       "      <td>02_01_01</td>\n",
       "    </tr>\n",
       "  </tbody>\n",
       "</table>\n",
       "</div>"
      ],
      "text/plain": [
       "                                                name            ekmtr  \\\n",
       "1               Эмаль ХВ-785 коричневая ГОСТ 7313-75     115_03_01_09   \n",
       "2  Отвод бесшовный приварной крутоизогнутый 60 21...        111_01_12   \n",
       "3  \"Кран Bonomi 760005 Ду1\"\" ANSI150 CF8M привод ...     101_01_01_05   \n",
       "4  Клапан КМР ЛГ 301 С 50 1,0 Л НО У в комплектац...  101_01_04_07_04   \n",
       "5  Теплообменник 500 ТУ-2,5-М1/20Г-3-Т-2-У-И ТУ 3...     110_02_01_01   \n",
       "\n",
       "  mtr_type ekmtr1       ekmtr2  \n",
       "1     NULL    115     03_01_09  \n",
       "2     NULL    111        01_12  \n",
       "3     NULL    101     01_01_05  \n",
       "4     NULL    101  01_04_07_04  \n",
       "5     NULL    110     02_01_01  "
      ]
     },
     "execution_count": 77,
     "metadata": {},
     "output_type": "execute_result"
    }
   ],
   "source": [
    "df_ekmtr.head()"
   ]
  },
  {
   "cell_type": "code",
   "execution_count": 80,
   "metadata": {
    "collapsed": false
   },
   "outputs": [
    {
     "data": {
      "text/plain": [
       "Pipeline(steps=[('vect', StemmedCountVectorizer(stemmer=<RussianStemmer>)), ('tfidf', TfidfTransformer(norm=u'l2', smooth_idf=True, sublinear_tf=False,\n",
       "         use_idf=True)), ('clf', LogisticRegression(C=1.0, class_weight=None, dual=False, fit_intercept=True,\n",
       "          intercept_scaling=1, max_iter=100, multi_class='ovr', n_jobs=1,\n",
       "          penalty='l2', random_state=None, solver='liblinear', tol=0.0001,\n",
       "          verbose=0, warm_start=False))])"
      ]
     },
     "execution_count": 80,
     "metadata": {},
     "output_type": "execute_result"
    }
   ],
   "source": [
    "text_clf.fit(df_ekmtr.name.values,df_ekmtr.ekmtr1.values)"
   ]
  },
  {
   "cell_type": "code",
   "execution_count": 81,
   "metadata": {
    "collapsed": false
   },
   "outputs": [
    {
     "name": "stdout",
     "output_type": "stream",
     "text": [
      "115 (158,)\n",
      "111 (46,)\n",
      "101 (92,)\n",
      "110 (45,)\n",
      "112 (332,)\n",
      "107 (124,)\n",
      "108 (19,)\n",
      "128 (115,)\n",
      "105 (244,)\n",
      "7 (28,)\n",
      "106 (93,)\n",
      "114 (199,)\n",
      "14 (1,)\n",
      "12 (14,)\n",
      "103 (374,)\n",
      "113 (65,)\n",
      "102 (62,)\n",
      "104 (57,)\n",
      "116 (95,)\n",
      "15 (2,)\n",
      "109 (85,)\n",
      "130 (115,)\n",
      "13 (59,)\n",
      "8 (14,)\n",
      "4 (18,)\n",
      "3 (10,)\n",
      "5 (13,)\n",
      "2 (11,)\n",
      "6 (34,)\n",
      "16 (1,)\n",
      "10 (49,)\n",
      "9 (6,)\n",
      "18 (12,)\n",
      "1 (11,)\n",
      "99 (1,)\n",
      "17 (1,)\n",
      "11 (5,)\n",
      "23 (2,)\n",
      "120 (5,)\n",
      "20 (1,)\n",
      "119 (2,)\n",
      "600 (1,)\n",
      "21 (1,)\n",
      "123 (1,)\n"
     ]
    }
   ],
   "source": [
    "ekclass =  {}\n",
    "for i in df_ekmtr.ekmtr1.unique():\n",
    "    print i, df_ekmtr[df_ekmtr.ekmtr1 == i].ekmtr2.unique().shape\n",
    "    if df_ekmtr[df_ekmtr.ekmtr1 == i].ekmtr2.unique().shape[0] > 1 :\n",
    "        text_clf_i = Pipeline([('vect', StemmedCountVectorizer(stemmer)), ('tfidf', TfidfTransformer()), ('clf', LogisticRegression()) ])\n",
    "        text_clf_i.fit(df_ekmtr[df_ekmtr.ekmtr1 == i].name.values,df_ekmtr[df_ekmtr.ekmtr1 == i].ekmtr2.values)\n",
    "        ekclass[i]= text_clf_i\n",
    "    "
   ]
  },
  {
   "cell_type": "code",
   "execution_count": 54,
   "metadata": {
    "collapsed": false
   },
   "outputs": [
    {
     "data": {
      "text/plain": [
       "array([u'02_02'], dtype=object)"
      ]
     },
     "execution_count": 54,
     "metadata": {},
     "output_type": "execute_result"
    }
   ],
   "source": [
    "def predict_ekmtr(mtr):\n",
    "    ek1 = text_clf.predict([mtr])[0]\n",
    "    if df_ekmtr[df_ekmtr.ekmtr1 == ek1].ekmtr2.unique().shape[0] > 1 : \n",
    "        ek2 = ekclass[ek1].predict([mtr])[0]\n",
    "    else : \n",
    "        ek2 = df_ekmtr[df_ekmtr.ekmtr1 == ek1].ekmtr2.unique()[0]\n",
    "    return ek1 + '_'+ ek2\n",
    "ddd = text_clf.predict(['Подстанция комплектная трансформаторная'])[0]\n",
    "ekclass[ddd].predict(['Подстанция комплектная трансформаторная КТП-1600/10/0,4-ШЭ-218 УХЛ4 (6048-ESS-001) ARUDTUK00-01'])\n"
   ]
  },
  {
   "cell_type": "code",
   "execution_count": 55,
   "metadata": {
    "collapsed": false
   },
   "outputs": [
    {
     "data": {
      "text/plain": [
       "u'112_12_01_02'"
      ]
     },
     "execution_count": 55,
     "metadata": {},
     "output_type": "execute_result"
    }
   ],
   "source": [
    "predict_ekmtr('Кольцо уплотнительное Герметика')"
   ]
  },
  {
   "cell_type": "code",
   "execution_count": 82,
   "metadata": {
    "collapsed": true
   },
   "outputs": [],
   "source": [
    "with open('ek1.pickle', 'wb') as f:\n",
    "    pickle.dump(text_clf, f)\n",
    "with open('ekclass.pickle', 'wb') as f:\n",
    "    pickle.dump(ekclass, f)\n",
    "\n",
    "\n"
   ]
  },
  {
   "cell_type": "code",
   "execution_count": 60,
   "metadata": {
    "collapsed": false
   },
   "outputs": [
    {
     "data": {
      "text/plain": [
       "array([u'112'], dtype=object)"
      ]
     },
     "execution_count": 60,
     "metadata": {},
     "output_type": "execute_result"
    }
   ],
   "source": [
    "text_clf_1111.predict(['Кольцо уплотнительное Герметика'])"
   ]
  },
  {
   "cell_type": "code",
   "execution_count": 67,
   "metadata": {
    "collapsed": false
   },
   "outputs": [
    {
     "data": {
      "text/html": [
       "<div>\n",
       "<table border=\"1\" class=\"dataframe\">\n",
       "  <thead>\n",
       "    <tr style=\"text-align: right;\">\n",
       "      <th></th>\n",
       "      <th>name</th>\n",
       "      <th>ekmtr</th>\n",
       "      <th>mtr_type</th>\n",
       "      <th>ekmtr1</th>\n",
       "      <th>ekmtr2</th>\n",
       "    </tr>\n",
       "  </thead>\n",
       "  <tbody>\n",
       "    <tr>\n",
       "      <th>8</th>\n",
       "      <td>Уровнемер радарный со стержневым волноводом VE...</td>\n",
       "      <td>108_03_02</td>\n",
       "      <td>ZGEN</td>\n",
       "      <td>108</td>\n",
       "      <td>03_02</td>\n",
       "    </tr>\n",
       "    <tr>\n",
       "      <th>11</th>\n",
       "      <td>Сигнализатор уровня вибрационный VEGA VEGASWIN...</td>\n",
       "      <td>108_03_02</td>\n",
       "      <td>ZMAT</td>\n",
       "      <td>108</td>\n",
       "      <td>03_02</td>\n",
       "    </tr>\n",
       "    <tr>\n",
       "      <th>12</th>\n",
       "      <td>Каучук синтетический цис-бутадиеновый СКД-ЕФ м...</td>\n",
       "      <td>6_16</td>\n",
       "      <td>ZGEN</td>\n",
       "      <td>6</td>\n",
       "      <td>16</td>\n",
       "    </tr>\n",
       "    <tr>\n",
       "      <th>16</th>\n",
       "      <td>Плинт размыкаемый Hyperline KR-PL-10-BRK-0</td>\n",
       "      <td>128_07_04</td>\n",
       "      <td>ZMAT</td>\n",
       "      <td>128</td>\n",
       "      <td>07_04</td>\n",
       "    </tr>\n",
       "    <tr>\n",
       "      <th>19</th>\n",
       "      <td>\"Полистирол вспенивающийся \"\"АЛЬФАПОР\"\" ПСВ, т...</td>\n",
       "      <td>7_27</td>\n",
       "      <td>ZGEN</td>\n",
       "      <td>7</td>\n",
       "      <td>27</td>\n",
       "    </tr>\n",
       "  </tbody>\n",
       "</table>\n",
       "</div>"
      ],
      "text/plain": [
       "                                                 name      ekmtr mtr_type  \\\n",
       "8   Уровнемер радарный со стержневым волноводом VE...  108_03_02     ZGEN   \n",
       "11  Сигнализатор уровня вибрационный VEGA VEGASWIN...  108_03_02     ZMAT   \n",
       "12  Каучук синтетический цис-бутадиеновый СКД-ЕФ м...       6_16     ZGEN   \n",
       "16         Плинт размыкаемый Hyperline KR-PL-10-BRK-0  128_07_04     ZMAT   \n",
       "19  \"Полистирол вспенивающийся \"\"АЛЬФАПОР\"\" ПСВ, т...       7_27     ZGEN   \n",
       "\n",
       "   ekmtr1 ekmtr2  \n",
       "8     108  03_02  \n",
       "11    108  03_02  \n",
       "12      6     16  \n",
       "16    128  07_04  \n",
       "19      7     27  "
      ]
     },
     "execution_count": 67,
     "metadata": {},
     "output_type": "execute_result"
    }
   ],
   "source": [
    "df_ekmtr[df_ekmtr.mtr_type != 'NULL'].head()"
   ]
  },
  {
   "cell_type": "code",
   "execution_count": 78,
   "metadata": {
    "collapsed": true
   },
   "outputs": [],
   "source": [
    "stem_vectorizer_mtr_type = StemmedCountVectorizer(stemmer)\n",
    "text_clf_mtr_type = Pipeline([('vect', stem_vectorizer_mtr_type), ('tfidf', TfidfTransformer()), ('clf', LogisticRegression()) ])\n",
    "text_clf_mtr_type.fit(df_ekmtr[df_ekmtr.mtr_type != 'NULL'].name.values,df_ekmtr[df_ekmtr.mtr_type != 'NULL'].mtr_type.values)\n",
    "text_clf_mtr_type.predict(['Кольцо уплотнительное Герметика'])\n",
    "with open('mtr_type.pickle', 'wb') as f:\n",
    "    pickle.dump(text_clf_mtr_type, f)\n",
    "with open('df_ekmtr.pickle', 'wb') as f:\n",
    "    pickle.dump(df_ekmtr, f)\n"
   ]
  },
  {
   "cell_type": "code",
   "execution_count": 79,
   "metadata": {
    "collapsed": false
   },
   "outputs": [
    {
     "data": {
      "text/plain": [
       "array([u'ZEQU'], dtype=object)"
      ]
     },
     "execution_count": 79,
     "metadata": {},
     "output_type": "execute_result"
    }
   ],
   "source": [
    "text_clf_mtr_type.predict(['Подстанция комплектная трансформаторная'])"
   ]
  },
  {
   "cell_type": "code",
   "execution_count": null,
   "metadata": {
    "collapsed": true
   },
   "outputs": [],
   "source": []
  }
 ],
 "metadata": {
  "anaconda-cloud": {},
  "kernelspec": {
   "display_name": "Python [conda root]",
   "language": "python",
   "name": "conda-root-py"
  },
  "language_info": {
   "codemirror_mode": {
    "name": "ipython",
    "version": 2
   },
   "file_extension": ".py",
   "mimetype": "text/x-python",
   "name": "python",
   "nbconvert_exporter": "python",
   "pygments_lexer": "ipython2",
   "version": "2.7.12"
  }
 },
 "nbformat": 4,
 "nbformat_minor": 1
}
